{
  "nbformat": 4,
  "nbformat_minor": 0,
  "metadata": {
    "colab": {
      "provenance": [],
      "authorship_tag": "ABX9TyNszFXV9YpErkbfafs38sTG",
      "include_colab_link": true
    },
    "kernelspec": {
      "name": "python3",
      "display_name": "Python 3"
    },
    "language_info": {
      "name": "python"
    }
  },
  "cells": [
    {
      "cell_type": "markdown",
      "metadata": {
        "id": "view-in-github",
        "colab_type": "text"
      },
      "source": [
        "<a href=\"https://colab.research.google.com/github/phuocnguyen90/Random-projects/blob/main/Google_TTS.ipynb\" target=\"_parent\"><img src=\"https://colab.research.google.com/assets/colab-badge.svg\" alt=\"Open In Colab\"/></a>"
      ]
    },
    {
      "cell_type": "code",
      "source": [
        "!pip install gtts\n",
        "!pip install pydub\n"
      ],
      "metadata": {
        "colab": {
          "base_uri": "https://localhost:8080/"
        },
        "id": "459gbstFfwji",
        "outputId": "ae7d358f-f0a5-4e67-87a4-a694fe3743ac"
      },
      "execution_count": null,
      "outputs": [
        {
          "output_type": "stream",
          "name": "stdout",
          "text": [
            "Collecting gtts\n",
            "  Downloading gTTS-2.5.1-py3-none-any.whl (29 kB)\n",
            "Requirement already satisfied: requests<3,>=2.27 in /usr/local/lib/python3.10/dist-packages (from gtts) (2.31.0)\n",
            "Requirement already satisfied: click<8.2,>=7.1 in /usr/local/lib/python3.10/dist-packages (from gtts) (8.1.7)\n",
            "Requirement already satisfied: charset-normalizer<4,>=2 in /usr/local/lib/python3.10/dist-packages (from requests<3,>=2.27->gtts) (3.3.2)\n",
            "Requirement already satisfied: idna<4,>=2.5 in /usr/local/lib/python3.10/dist-packages (from requests<3,>=2.27->gtts) (3.7)\n",
            "Requirement already satisfied: urllib3<3,>=1.21.1 in /usr/local/lib/python3.10/dist-packages (from requests<3,>=2.27->gtts) (2.0.7)\n",
            "Requirement already satisfied: certifi>=2017.4.17 in /usr/local/lib/python3.10/dist-packages (from requests<3,>=2.27->gtts) (2024.2.2)\n",
            "Installing collected packages: gtts\n",
            "Successfully installed gtts-2.5.1\n",
            "Collecting pydub\n",
            "  Downloading pydub-0.25.1-py2.py3-none-any.whl (32 kB)\n",
            "Installing collected packages: pydub\n",
            "Successfully installed pydub-0.25.1\n"
          ]
        }
      ]
    },
    {
      "cell_type": "code",
      "execution_count": null,
      "metadata": {
        "id": "mzvHJTggb8zU"
      },
      "outputs": [],
      "source": [
        "from gtts import gTTS\n",
        "import os\n",
        "from pydub import AudioSegment\n",
        "import re\n",
        "\n",
        "def split_text(text, max_length):\n",
        "    # Split text into chunks not exceeding max_length characters,\n",
        "    # splitting at nearest punctuation marks\n",
        "    chunks = []\n",
        "    while len(text) > max_length:\n",
        "        chunk = text[:max_length]\n",
        "        # Find the nearest punctuation mark to the max_length\n",
        "        punctuation_idx = max(chunk.rfind('.'), chunk.rfind(','), chunk.rfind('!'), chunk.rfind('?'))\n",
        "        if punctuation_idx == -1:\n",
        "            # If no punctuation found, split at max_length\n",
        "            chunk, text = text[:max_length], text[max_length:]\n",
        "        else:\n",
        "            chunk, text = text[:punctuation_idx + 1], text[punctuation_idx + 1:]\n",
        "        chunks.append(chunk.strip())\n",
        "    if text:\n",
        "        chunks.append(text.strip())\n",
        "    return chunks\n",
        "\n",
        "\n",
        "def generate_audio_chunks(chunks, language='vi'):\n",
        "    audio_files = []\n",
        "    for idx, chunk in enumerate(chunks):\n",
        "        tts = gTTS(chunk, lang=language)\n",
        "        audio_file = f\"chunk_{idx}.mp3\"\n",
        "        tts.save(audio_file)\n",
        "        audio_files.append(audio_file)\n",
        "    return audio_files\n",
        "\n",
        "def merge_audio_files(audio_files, output_file):\n",
        "    combined = AudioSegment.empty()\n",
        "    for audio_file in audio_files:\n",
        "        segment = AudioSegment.from_mp3(audio_file)\n",
        "        combined += segment\n",
        "        os.remove(audio_file)  # Remove the temporary audio files\n",
        "    combined.export(output_file, format=\"mp3\")\n",
        "\n"
      ]
    },
    {
      "cell_type": "code",
      "source": [
        "from google.colab import files\n",
        "\n",
        "uploaded = files.upload()\n",
        "\n",
        "for filename in uploaded.keys():\n",
        "    print('Uploaded file \"{name}\" with length {length} bytes'.format(\n",
        "        name=filename, length=len(uploaded[filename])))\n",
        "# Assuming the uploaded file is named 'example.txt'\n",
        "with open('452.txt', 'r') as file:\n",
        "    text = file.read()\n",
        "\n",
        "print(text)\n"
      ],
      "metadata": {
        "id": "UAfc9WbtgExn"
      },
      "execution_count": null,
      "outputs": []
    },
    {
      "cell_type": "code",
      "source": [
        "\n",
        "max_length = 200  # Maximum characters per request\n",
        "language = 'vi'   # Language code for Vietnamese\n",
        "\n",
        "# Split text into chunks\n",
        "chunks = split_text(text, max_length)\n",
        "\n",
        "# Generate audio for each chunk\n",
        "audio_files = generate_audio_chunks(chunks, language)\n",
        "\n",
        "# Merge audio files into a single audio file\n",
        "merge_audio_files(audio_files, \"output.mp3\")\n"
      ],
      "metadata": {
        "id": "MDSD_XVefvXl"
      },
      "execution_count": null,
      "outputs": []
    }
  ]
}